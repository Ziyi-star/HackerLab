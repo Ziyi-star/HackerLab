{
 "cells": [
  {
   "cell_type": "code",
   "execution_count": 1,
   "id": "b6de0b6d",
   "metadata": {},
   "outputs": [
    {
     "data": {
      "text/html": [
       "<style>.container { width:85% !important; }</style>"
      ],
      "text/plain": [
       "<IPython.core.display.HTML object>"
      ]
     },
     "metadata": {},
     "output_type": "display_data"
    }
   ],
   "source": [
    "from IPython.display import display, HTML\n",
    "display(HTML(\"<style>.container { width:85% !important; }</style>\"))"
   ]
  },
  {
   "cell_type": "markdown",
   "id": "d450ee78",
   "metadata": {},
   "source": [
    "1. What do we use hashing for?\n",
    "Hashing is a fundamental technique used for several purposes, including:\n",
    "Data Integrity: Hash functions can ensure data integrity by producing a unique fixed-size output (hash) for any given input. Any change in the data will alter the hash, signaling potential tampering.\n",
    "Efficient Data Retrieval: Hash functions are used in data structures like hash tables to quickly locate a data record given its search key.\n",
    "Cryptographic Applications: Hashing is integral to digital signatures, message integrity checks, and various forms of authentication and secure transmissions."
   ]
  },
  {
   "cell_type": "markdown",
   "id": "f810a3f1",
   "metadata": {},
   "source": [
    "2. Download the VM files from the Moodle course and Use md5sum to showcase data integrity. Do the hashes match? \n",
    "If not, what do you do? (Keep the VM files, you might need them for later)\n",
    "md5sum from my laptop: dd39ff322b5c784e42982f2d1fa60dc6 \n",
    "matches\n",
    "solution from: https://parrotsec.org/docs/configuration/hash-and-key-verification/"
   ]
  },
  {
   "cell_type": "markdown",
   "id": "87ced98b",
   "metadata": {},
   "source": [
    "3. What is hash collision?\n",
    "A hash collision occurs when two different inputs to a hash function produce the same hash output. \n",
    "Since hash functions map potentially infinite inputs to a finite number of outputs, collisions are theoretically inevitable due to the Pigeonhole Principle."
   ]
  },
  {
   "cell_type": "markdown",
   "id": "1147afe1",
   "metadata": {},
   "source": [
    "4. How can hash collision be used maliciously? →Could this cause issues with logins?\n",
    "Malicious uses of hash collisions include:\n",
    "\n",
    "Creating Forgery: An attacker might find a different document that produces the same hash as a legitimate document, enabling forgery.\n",
    "Breaking Password Systems: If an attacker can find a password that has the same hash as a user's actual password, they can gain unauthorized access without knowing the real password.\n",
    "Cryptographic Attacks: Collisions can be used to break cryptographic assurances, like forging digital signatures if two different documents can produce the same signature.\n",
    "Implications for Logins: Yes, if an attacker can generate a password that results in the same hash as a legitimate user’s password, they can potentially login as that user without knowing the actual password."
   ]
  },
  {
   "cell_type": "markdown",
   "id": "3a014657",
   "metadata": {},
   "source": [
    "5. Write a script that finds collision in MD4. How long did it approximately take to run?"
   ]
  },
  {
   "cell_type": "code",
   "execution_count": 3,
   "id": "94797ecf",
   "metadata": {},
   "outputs": [],
   "source": [
    "import hashlib\n",
    "import random\n",
    "import time\n",
    "\n",
    "def find_md4_collision():\n",
    "    hashes = {}\n",
    "    start_time = time.time()\n",
    "    while True:\n",
    "        text = str(random.getrandbits(128))  # Generate a random string\n",
    "        hash_digest = hashlib.new('md4', text.encode()).hexdigest()\n",
    "        if hash_digest in hashes:\n",
    "            print(f\"Collision found: {text} and {hashes[hash_digest]} both hash to {hash_digest}\")\n",
    "            break\n",
    "        hashes[hash_digest] = text\n",
    "    end_time = time.time()\n",
    "    print(f\"Time taken: {end_time - start_time} seconds\")"
   ]
  },
  {
   "cell_type": "code",
   "execution_count": null,
   "id": "a44acf2a",
   "metadata": {},
   "outputs": [],
   "source": [
    "find_md4_collision()"
   ]
  },
  {
   "cell_type": "code",
   "execution_count": null,
   "id": "d7e77c76",
   "metadata": {},
   "outputs": [],
   "source": [
    "6. How can you reduce the probability of hash collisions?"
   ]
  }
 ],
 "metadata": {
  "kernelspec": {
   "display_name": "Python 3 (ipykernel)",
   "language": "python",
   "name": "python3"
  },
  "language_info": {
   "codemirror_mode": {
    "name": "ipython",
    "version": 3
   },
   "file_extension": ".py",
   "mimetype": "text/x-python",
   "name": "python",
   "nbconvert_exporter": "python",
   "pygments_lexer": "ipython3",
   "version": "3.9.13"
  }
 },
 "nbformat": 4,
 "nbformat_minor": 5
}
