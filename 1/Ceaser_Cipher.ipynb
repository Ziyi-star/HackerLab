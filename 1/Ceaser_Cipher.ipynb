{
 "cells": [
  {
   "cell_type": "code",
   "execution_count": 1,
   "id": "e5db642c",
   "metadata": {},
   "outputs": [
    {
     "data": {
      "text/html": [
       "<style>.container { width:85% !important; }</style>"
      ],
      "text/plain": [
       "<IPython.core.display.HTML object>"
      ]
     },
     "metadata": {},
     "output_type": "display_data"
    }
   ],
   "source": [
    "from IPython.display import display, HTML\n",
    "display(HTML(\"<style>.container { width:85% !important; }</style>\"))"
   ]
  },
  {
   "cell_type": "markdown",
   "id": "e9844669",
   "metadata": {},
   "source": [
    "1.1.1 Ceasar Cipher\n",
    "Implement the Caesar’s Cipher encryption algorithm using Python.\n",
    "1. Prompt the user to enter a plaintext message and a shift value.\n",
    "2. Encrypt the message using the Caesar’s Cipher algorithm with the provided shift value.\n",
    "3. Display the encrypted message to the user.\n",
    "\n",
    "Implement a decoder for the Caesar’s Cipher encryption algorithm using Python.\n",
    "1. Write a script that systematically tries all possible shift values (0 to 25) to decrypt the message\n",
    "provided below.\n",
    "2. Identify the plaintext message from the decrypted results.\n",
    "3. Is this encryption method effective?\n",
    "The encrypted message for Ceasar’s Cipher: Aol Pualyula pz aol shynlza kpzaypibalk zfzalt\n",
    "lcly ibpsa huk vby tpzzpvu pz av ltwpypjhssf buklyzahuk huk vwaptgl aol Pualyula. Vby ylzlhyjo\n",
    "huk alhjopun hjapcpaplz hyl jvujlyulk dpao aol klzpnu wypujpwslz vm tvklyu uladvyr huk kpzaypibalk\n",
    "zfzaltz, hz dlss hz aolpy zljbypaf hzwljaz."
   ]
  },
  {
   "cell_type": "code",
   "execution_count": 9,
   "id": "cc571d3e",
   "metadata": {},
   "outputs": [],
   "source": [
    "def caesar_cipher_encrypt(plaintext, shift):\n",
    "    #todos:\n",
    "    encrypted_message = \"\"\n",
    "    for char in plaintext:\n",
    "        # Check if the character is a letter\n",
    "        if char.isalpha():  \n",
    "            #if shift greater than 26, than we have to mod it\n",
    "            shift_amount = shift % 26\n",
    "            # check if the character is in lower case\n",
    "            if char.islower():\n",
    "                start = ord('a')\n",
    "                # %26: # %26: to make sure we still end up in ASCII table.\n",
    "                encrypted_message += chr((ord(char) - start + shift_amount) % 26 + start)\n",
    "            # check if the character is in upper case\n",
    "            elif char.isupper():\n",
    "                start = ord('A')\n",
    "                encrypted_message += chr((ord(char) - start + shift_amount) % 26 + start)\n",
    "        # If the character is not a letter, add it as is\n",
    "        else:\n",
    "            encrypted_message += char\n",
    "    return encrypted_message"
   ]
  },
  {
   "cell_type": "code",
   "execution_count": null,
   "id": "6d22e672",
   "metadata": {},
   "outputs": [],
   "source": [
    "#encoder\n",
    "#Prompt the user to enter a plaintext message and a shift value.\n",
    "#Encrypt the message using the Caesar’s Cipher algorithm with the provided shift value.\n",
    "#Display the encrypted message to the user.\n",
    "\n",
    "plaintext = input(\"Enter your message: \")\n",
    "shift = int(input(\"Enter shift value: \"))\n",
    "encrypted_message = caesar_cipher_encrypt(plaintext, shift)\n",
    "print(\"Encrypted Message:\", encrypted_message)"
   ]
  },
  {
   "cell_type": "code",
   "execution_count": null,
   "id": "af42ee1f",
   "metadata": {},
   "outputs": [],
   "source": [
    "#decoder\n"
   ]
  },
  {
   "cell_type": "code",
   "execution_count": null,
   "id": "0d027b95",
   "metadata": {},
   "outputs": [],
   "source": []
  },
  {
   "cell_type": "code",
   "execution_count": null,
   "id": "bf3ecfb6",
   "metadata": {},
   "outputs": [],
   "source": []
  },
  {
   "cell_type": "code",
   "execution_count": null,
   "id": "1a78656c",
   "metadata": {},
   "outputs": [],
   "source": []
  }
 ],
 "metadata": {
  "kernelspec": {
   "display_name": "Python 3 (ipykernel)",
   "language": "python",
   "name": "python3"
  },
  "language_info": {
   "codemirror_mode": {
    "name": "ipython",
    "version": 3
   },
   "file_extension": ".py",
   "mimetype": "text/x-python",
   "name": "python",
   "nbconvert_exporter": "python",
   "pygments_lexer": "ipython3",
   "version": "3.9.13"
  }
 },
 "nbformat": 4,
 "nbformat_minor": 5
}
