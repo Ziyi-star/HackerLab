{
 "cells": [
  {
   "cell_type": "code",
   "execution_count": 1,
   "id": "e5db642c",
   "metadata": {},
   "outputs": [
    {
     "data": {
      "text/html": [
       "<style>.container { width:85% !important; }</style>"
      ],
      "text/plain": [
       "<IPython.core.display.HTML object>"
      ]
     },
     "metadata": {},
     "output_type": "display_data"
    }
   ],
   "source": [
    "from IPython.display import display, HTML\n",
    "display(HTML(\"<style>.container { width:85% !important; }</style>\"))"
   ]
  },
  {
   "cell_type": "markdown",
   "id": "e9844669",
   "metadata": {},
   "source": [
    "1.1.1 Ceasar Cipher\n",
    "Implement the Caesar’s Cipher encryption algorithm using Python.\n",
    "1. Prompt the user to enter a plaintext message and a shift value.\n",
    "2. Encrypt the message using the Caesar’s Cipher algorithm with the provided shift value.\n",
    "3. Display the encrypted message to the user.\n",
    "\n",
    "Implement a decoder for the Caesar’s Cipher encryption algorithm using Python.\n",
    "1. Write a script that systematically tries all possible shift values (0 to 25) to decrypt the message\n",
    "provided below.\n",
    "2. Identify the plaintext message from the decrypted results.\n",
    "3. Is this encryption method effective?\n",
    "The encrypted message for Ceasar’s Cipher: Aol Pualyula pz aol shynlza kpzaypibalk zfzalt\n",
    "lcly ibpsa huk vby tpzzpvu pz av ltwpypjhssf buklyzahuk huk vwaptgl aol Pualyula. Vby ylzlhyjo\n",
    "huk alhjopun hjapcpaplz hyl jvujlyulk dpao aol klzpnu wypujpwslz vm tvklyu uladvyr huk kpzaypibalk\n",
    "zfzaltz, hz dlss hz aolpy zljbypaf hzwljaz."
   ]
  },
  {
   "cell_type": "code",
   "execution_count": null,
   "id": "cc571d3e",
   "metadata": {},
   "outputs": [],
   "source": [
    "def caesar_cipher_encrypt(plaintext, shift):\n",
    "    #todos:\n",
    "    encrypted_message = \"\"\n",
    "    for char in plaintext:\n",
    "        # Check if the character is a letter\n",
    "        if char.isalpha():  \n",
    "            #if shift greater than 26, than we have to modulo it\n",
    "            shift_amount = shift % 26\n",
    "            # check if the character is in lower case\n",
    "            if char.islower():\n",
    "                start = ord('a')\n",
    "                # %26: to make sure we still end up in ASCII table in letters.\n",
    "                encrypted_message += chr((ord(char) - start + shift_amount) % 26 + start)\n",
    "            # check if the character is in upper case\n",
    "            elif char.isupper():\n",
    "                start = ord('A')\n",
    "                encrypted_message += chr((ord(char) - start + shift_amount) % 26 + start)\n",
    "        # If the character is not a letter, add it as is\n",
    "        else:\n",
    "            encrypted_message += char\n",
    "    return encrypted_message"
   ]
  },
  {
   "cell_type": "code",
   "execution_count": null,
   "id": "6d22e672",
   "metadata": {},
   "outputs": [],
   "source": [
    "#encoder\n",
    "#Prompt the user to enter a plaintext message and a shift value.\n",
    "#Encrypt the message using the Caesar’s Cipher algorithm with the provided shift value.\n",
    "#Display the encrypted message to the user.\n",
    "\n",
    "plaintext = input(\"Enter your message: \")\n",
    "shift = int(input(\"Enter shift value: \"))\n",
    "encrypted_message = caesar_cipher_encrypt(plaintext, shift)\n",
    "print(\"Encrypted Message:\", encrypted_message)"
   ]
  },
  {
   "cell_type": "code",
   "execution_count": 4,
   "id": "af42ee1f",
   "metadata": {},
   "outputs": [],
   "source": [
    "#decoder\n",
    "# 1. Write a script that systematically tries all possible shift values (0 to 25) to decrypt the message provided below.\n",
    "def caesar_cipher_decrypt(ciphertext):\n",
    "    #try all the possibilities\n",
    "    for shift in range(26):\n",
    "        decrypted_text = \"\"\n",
    "        for char in ciphertext:\n",
    "            if char.isalpha():\n",
    "                if char.islower():\n",
    "                    start = ord('a')\n",
    "                    decrypted_text += chr((ord(char) - start - shift) % 26 + start)\n",
    "                elif char.isupper():\n",
    "                    start = ord('A')\n",
    "                    decrypted_text += chr((ord(char) - start - shift) % 26 + start)\n",
    "            else:\n",
    "                decrypted_text += char\n",
    "        print(f'Shift {shift}: {decrypted_text}')"
   ]
  },
  {
   "cell_type": "code",
   "execution_count": 5,
   "id": "0d027b95",
   "metadata": {},
   "outputs": [
    {
     "name": "stdout",
     "output_type": "stream",
     "text": [
      "Shift 0: Aol Pualyula pz aol shynlza kpzaypibalk zfzalt lcly ibpsa huk vby tpzzpvu pz av ltwpypjhssf buklyzahuk huk vwaptgl aol Pualyula. Vby ylzlhyjo huk alhjopun hjapcpaplz hyl jvujlyulk dpao aol klzpnu wypujpwslz vm tvklyu uladvyr huk kpzaypibalk zfzaltz, hz dlss hz aolpy zljbypaf hzwljaz.\n",
      "Shift 1: Znk Otzkxtkz oy znk rgxmkyz joyzxohazkj yeyzks kbkx haorz gtj uax soyyout oy zu ksvoxoigrre atjkxyzgtj gtj uvzosfk znk Otzkxtkz. Uax xkykgxin gtj zkginotm gizobozoky gxk iutikxtkj cozn znk jkyomt vxotiovrky ul sujkxt tkzcuxq gtj joyzxohazkj yeyzksy, gy ckrr gy znkox ykiaxoze gyvkizy.\n",
      "Shift 2: Ymj Nsyjwsjy nx ymj qfwljxy inxywngzyji xdxyjr jajw gznqy fsi tzw rnxxnts nx yt jrunwnhfqqd zsijwxyfsi fsi tuynrej ymj Nsyjwsjy. Tzw wjxjfwhm fsi yjfhmnsl fhynanynjx fwj htshjwsji bnym ymj ijxnls uwnshnuqjx tk rtijws sjybtwp fsi inxywngzyji xdxyjrx, fx bjqq fx ymjnw xjhzwnyd fxujhyx.\n",
      "Shift 3: Xli Mrxivrix mw xli pevkiwx hmwxvmfyxih wcwxiq iziv fympx erh syv qmwwmsr mw xs iqtmvmgeppc yrhivwxerh erh stxmqdi xli Mrxivrix. Syv viwievgl erh xieglmrk egxmzmxmiw evi gsrgivrih amxl xli hiwmkr tvmrgmtpiw sj qshivr rixasvo erh hmwxvmfyxih wcwxiqw, ew aipp ew xlimv wigyvmxc ewtigxw.\n",
      "Shift 4: Wkh Lqwhuqhw lv wkh odujhvw glvwulexwhg vbvwhp hyhu exlow dqg rxu plvvlrq lv wr hpslulfdoob xqghuvwdqg dqg rswlpch wkh Lqwhuqhw. Rxu uhvhdufk dqg whdfklqj dfwlylwlhv duh frqfhuqhg zlwk wkh ghvljq sulqflsohv ri prghuq qhwzrun dqg glvwulexwhg vbvwhpv, dv zhoo dv wkhlu vhfxulwb dvshfwv.\n",
      "Shift 5: Vjg Kpvgtpgv ku vjg nctiguv fkuvtkdwvgf uauvgo gxgt dwknv cpf qwt okuukqp ku vq gorktkecnna wpfgtuvcpf cpf qrvkobg vjg Kpvgtpgv. Qwt tgugctej cpf vgcejkpi cevkxkvkgu ctg eqpegtpgf ykvj vjg fgukip rtkpekrngu qh oqfgtp pgvyqtm cpf fkuvtkdwvgf uauvgou, cu ygnn cu vjgkt ugewtkva curgevu.\n",
      "Shift 6: Uif Joufsofu jt uif mbshftu ejtusjcvufe tztufn fwfs cvjmu boe pvs njttjpo jt up fnqjsjdbmmz voefstuboe boe pqujnaf uif Joufsofu. Pvs sftfbsdi boe ufbdijoh bdujwjujft bsf dpodfsofe xjui uif eftjho qsjodjqmft pg npefso ofuxpsl boe ejtusjcvufe tztufnt, bt xfmm bt uifjs tfdvsjuz btqfdut.\n",
      "Shift 7: The Internet is the largest distributed system ever built and our mission is to empirically understand and optimze the Internet. Our research and teaching activities are concerned with the design principles of modern network and distributed systems, as well as their security aspects.\n",
      "Shift 8: Sgd Hmsdqmds hr sgd kzqfdrs chrsqhatsdc rxrsdl dudq athks zmc ntq lhrrhnm hr sn dlohqhbzkkx tmcdqrszmc zmc noshlyd sgd Hmsdqmds. Ntq qdrdzqbg zmc sdzbghmf zbshuhshdr zqd bnmbdqmdc vhsg sgd cdrhfm oqhmbhokdr ne lncdqm mdsvnqj zmc chrsqhatsdc rxrsdlr, zr vdkk zr sgdhq rdbtqhsx zrodbsr.\n",
      "Shift 9: Rfc Glrcplcr gq rfc jypecqr bgqrpgzsrcb qwqrck ctcp zsgjr ylb msp kgqqgml gq rm ckngpgayjjw slbcpqrylb ylb mnrgkxc rfc Glrcplcr. Msp pcqcypaf ylb rcyafgle yargtgrgcq ypc amlacplcb ugrf rfc bcqgel npglagnjcq md kmbcpl lcrumpi ylb bgqrpgzsrcb qwqrckq, yq ucjj yq rfcgp qcaspgrw yqncarq.\n",
      "Shift 10: Qeb Fkqbokbq fp qeb ixodbpq afpqofyrqba pvpqbj bsbo yrfiq xka lro jfppflk fp ql bjmfofzxiiv rkabopqxka xka lmqfjwb qeb Fkqbokbq. Lro obpbxoze xka qbxzefkd xzqfsfqfbp xob zlkzbokba tfqe qeb abpfdk mofkzfmibp lc jlabok kbqtloh xka afpqofyrqba pvpqbjp, xp tbii xp qebfo pbzrofqv xpmbzqp.\n",
      "Shift 11: Pda Ejpanjap eo pda hwncaop zeopnexqpaz ouopai aran xqehp wjz kqn ieooekj eo pk aileneywhhu qjzanopwjz wjz klpeiva pda Ejpanjap. Kqn naoawnyd wjz pawydejc wyperepeao wna ykjyanjaz sepd pda zaoecj lnejyelhao kb ikzanj japskng wjz zeopnexqpaz ouopaio, wo sahh wo pdaen oayqnepu wolaypo.\n",
      "Shift 12: Ocz Diozmizo dn ocz gvmbzno ydnomdwpozy ntnozh zqzm wpdgo viy jpm hdnndji dn oj zhkdmdxvggt piyzmnoviy viy jkodhuz ocz Diozmizo. Jpm mznzvmxc viy ozvxcdib vxodqdodzn vmz xjixzmizy rdoc ocz yzndbi kmdixdkgzn ja hjyzmi izorjmf viy ydnomdwpozy ntnozhn, vn rzgg vn oczdm nzxpmdot vnkzxon.\n",
      "Shift 13: Nby Chnylhyn cm nby fulaymn xcmnlcvonyx msmnyg ypyl vocfn uhx iol gcmmcih cm ni ygjclcwuffs ohxylmnuhx uhx ijncgty nby Chnylhyn. Iol lymyulwb uhx nyuwbcha uwncpcncym uly wihwylhyx qcnb nby xymcah jlchwcjfym iz gixylh hynqile uhx xcmnlcvonyx msmnygm, um qyff um nbycl mywolcns umjywnm.\n",
      "Shift 14: Max Bgmxkgxm bl max etkzxlm wblmkbunmxw lrlmxf xoxk unbem tgw hnk fbllbhg bl mh xfibkbvteer ngwxklmtgw tgw himbfsx max Bgmxkgxm. Hnk kxlxtkva tgw mxtvabgz tvmbobmbxl tkx vhgvxkgxw pbma max wxlbzg ikbgvbiexl hy fhwxkg gxmphkd tgw wblmkbunmxw lrlmxfl, tl pxee tl maxbk lxvnkbmr tlixvml.\n",
      "Shift 15: Lzw Aflwjfwl ak lzw dsjywkl vakljatmlwv kqklwe wnwj tmadl sfv gmj eakkagf ak lg wehajausddq mfvwjklsfv sfv ghlaerw lzw Aflwjfwl. Gmj jwkwsjuz sfv lwsuzafy sulanalawk sjw ugfuwjfwv oalz lzw vwkayf hjafuahdwk gx egvwjf fwlogjc sfv vakljatmlwv kqklwek, sk owdd sk lzwaj kwumjalq skhwulk.\n",
      "Shift 16: Kyv Zekvievk zj kyv crixvjk uzjkizslkvu jpjkvd vmvi slzck reu fli dzjjzfe zj kf vdgziztrccp leuvijkreu reu fgkzdqv kyv Zekvievk. Fli ivjvrity reu kvrtyzex rtkzmzkzvj riv tfetvievu nzky kyv uvjzxe gizetzgcvj fw dfuvie evknfib reu uzjkizslkvu jpjkvdj, rj nvcc rj kyvzi jvtlizkp rjgvtkj.\n",
      "Shift 17: Jxu Ydjuhduj yi jxu bqhwuij tyijhyrkjut ioijuc uluh rkybj qdt ekh cyiiyed yi je ucfyhysqbbo kdtuhijqdt qdt efjycpu jxu Ydjuhduj. Ekh huiuqhsx qdt juqsxydw qsjylyjyui qhu sedsuhdut myjx jxu tuiywd fhydsyfbui ev cetuhd dujmeha qdt tyijhyrkjut ioijuci, qi mubb qi jxuyh iuskhyjo qifusji.\n",
      "Shift 18: Iwt Xcitgcti xh iwt apgvthi sxhigxqjits hnhitb tktg qjxai pcs djg bxhhxdc xh id tbexgxrpaan jcstghipcs pcs deixbot iwt Xcitgcti. Djg gthtpgrw pcs itprwxcv prixkxixth pgt rdcrtgcts lxiw iwt sthxvc egxcrxeath du bdstgc ctildgz pcs sxhigxqjits hnhitbh, ph ltaa ph iwtxg htrjgxin phetrih.\n",
      "Shift 19: Hvs Wbhsfbsh wg hvs zofusgh rwghfwpihsr gmghsa sjsf piwzh obr cif awggwcb wg hc sadwfwqozzm ibrsfghobr obr cdhwans hvs Wbhsfbsh. Cif fsgsofqv obr hsoqvwbu oqhwjwhwsg ofs qcbqsfbsr kwhv hvs rsgwub dfwbqwdzsg ct acrsfb bshkcfy obr rwghfwpihsr gmghsag, og kszz og hvswf gsqifwhm ogdsqhg.\n",
      "Shift 20: Gur Vagrearg vf gur ynetrfg qvfgevohgrq flfgrz rire ohvyg naq bhe zvffvba vf gb rzcvevpnyyl haqrefgnaq naq bcgvzmr gur Vagrearg. Bhe erfrnepu naq grnpuvat npgvivgvrf ner pbaprearq jvgu gur qrfvta cevapvcyrf bs zbqrea argjbex naq qvfgevohgrq flfgrzf, nf jryy nf gurve frphevgl nfcrpgf.\n",
      "Shift 21: Ftq Uzfqdzqf ue ftq xmdsqef puefdungfqp ekefqy qhqd nguxf mzp agd yueeuaz ue fa qybuduomxxk gzpqdefmzp mzp abfuylq ftq Uzfqdzqf. Agd dqeqmdot mzp fqmotuzs mofuhufuqe mdq oazoqdzqp iuft ftq pqeusz bduzoubxqe ar yapqdz zqfiadw mzp puefdungfqp ekefqye, me iqxx me ftqud eqogdufk mebqofe.\n",
      "Shift 22: Esp Tyepcype td esp wlcrpde otdectmfepo djdepx pgpc mftwe lyo zfc xtddtzy td ez pxatctnlwwj fyopcdelyo lyo zaetxkp esp Tyepcype. Zfc cpdplcns lyo eplnstyr lnetgtetpd lcp nzynpcypo htes esp opdtry actyntawpd zq xzopcy ypehzcv lyo otdectmfepo djdepxd, ld hpww ld esptc dpnfctej ldapned.\n",
      "Shift 23: Dro Sxdobxod sc dro vkbqocd nscdbsledon cicdow ofob lesvd kxn yeb wsccsyx sc dy owzsbsmkvvi exnobcdkxn kxn yzdswjo dro Sxdobxod. Yeb bocokbmr kxn dokmrsxq kmdsfsdsoc kbo myxmobxon gsdr dro nocsqx zbsxmszvoc yp wynobx xodgybu kxn nscdbsledon cicdowc, kc govv kc drosb comebsdi kczomdc.\n",
      "Shift 24: Cqn Rwcnawnc rb cqn ujapnbc mrbcarkdcnm bhbcnv nena kdruc jwm xda vrbbrxw rb cx nvyrarljuuh dwmnabcjwm jwm xycrvin cqn Rwcnawnc. Xda anbnjalq jwm cnjlqrwp jlcrercrnb jan lxwlnawnm frcq cqn mnbrpw yarwlryunb xo vxmnaw wncfxat jwm mrbcarkdcnm bhbcnvb, jb fnuu jb cqnra bnldarch jbynlcb.\n",
      "Shift 25: Bpm Qvbmzvmb qa bpm tizomab lqabzqjcbml agabmu mdmz jcqtb ivl wcz uqaaqwv qa bw muxqzqkittg cvlmzabivl ivl wxbquhm bpm Qvbmzvmb. Wcz zmamizkp ivl bmikpqvo ikbqdqbqma izm kwvkmzvml eqbp bpm lmaqov xzqvkqxtma wn uwlmzv vmbewzs ivl lqabzqjcbml agabmua, ia emtt ia bpmqz amkczqbg iaxmkba.\n"
     ]
    }
   ],
   "source": [
    "encrypted_message = \"Aol Pualyula pz aol shynlza kpzaypibalk zfzalt lcly ibpsa huk vby tpzzpvu pz av ltwpypjhssf buklyzahuk huk vwaptgl aol Pualyula. Vby ylzlhyjo huk alhjopun hjapcpaplz hyl jvujlyulk dpao aol klzpnu wypujpwslz vm tvklyu uladvyr huk kpzaypibalk zfzaltz, hz dlss hz aolpy zljbypaf hzwljaz.\"\n",
    "caesar_cipher_decrypt(encrypted_message)"
   ]
  },
  {
   "cell_type": "markdown",
   "id": "80c51708",
   "metadata": {},
   "source": [
    "2. Identify the plaintext message from the decrypted results.\n",
    "\n",
    "Solution: Shift 7: The Internet is the largest distributed system ever built and our mission is to empirically understand and optimze the Internet. Our research and teaching activities are concerned with the design principles of modern network and distributed systems, as well as their security aspects.\n",
    "\n",
    "3. Is this encryption method effective?\n",
    "\n",
    "No, because we can always crack the encryption using brute force."
   ]
  },
  {
   "cell_type": "code",
   "execution_count": null,
   "id": "1a78656c",
   "metadata": {},
   "outputs": [],
   "source": []
  }
 ],
 "metadata": {
  "kernelspec": {
   "display_name": "Python 3 (ipykernel)",
   "language": "python",
   "name": "python3"
  },
  "language_info": {
   "codemirror_mode": {
    "name": "ipython",
    "version": 3
   },
   "file_extension": ".py",
   "mimetype": "text/x-python",
   "name": "python",
   "nbconvert_exporter": "python",
   "pygments_lexer": "ipython3",
   "version": "3.9.13"
  }
 },
 "nbformat": 4,
 "nbformat_minor": 5
}
