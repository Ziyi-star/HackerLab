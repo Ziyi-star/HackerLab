{
 "cells": [
  {
   "cell_type": "code",
   "execution_count": 2,
   "id": "3b60e500",
   "metadata": {},
   "outputs": [
    {
     "data": {
      "text/html": [
       "<style>.container { width:85% !important; }</style>"
      ],
      "text/plain": [
       "<IPython.core.display.HTML object>"
      ]
     },
     "metadata": {},
     "output_type": "display_data"
    }
   ],
   "source": [
    "from IPython.display import display, HTML\n",
    "display(HTML(\"<style>.container { width:85% !important; }</style>\"))"
   ]
  },
  {
   "cell_type": "markdown",
   "id": "20d1e7bc",
   "metadata": {},
   "source": [
    "1. What is the difference between symmetric and asymmetric encryption? How does it compare with the Ceasar’s Cipher?\n",
    "\n",
    "Symmetric Encryption:\n",
    "Both the sender and the receiver use the same key for encryption and decryption.\n",
    "It is faster and simpler but requires secure key management since the key must be shared and kept secret.\n",
    "Example: AES (Advanced Encryption Standard).\n",
    "\n",
    "Asymmetric Encryption:\n",
    "Uses a pair of keys: a public key for encryption and a private key for decryption.\n",
    "It allows anyone to encrypt messages with the public key, but only the holder of the private key can decrypt them.\n",
    "It is more complex and slower than symmetric encryption but solves the key distribution problem.\n",
    "Example: RSA (Rivest–Shamir–Adleman).\n",
    "\n",
    "Public Key Encryption Comparison with Caesar’s Cipher:\n",
    "Caesar’s Cipher is a type of symmetric encryption with a single key (the shift value).\n",
    "It is much less secure than modern methods since the key space (the range of possible keys) is very small (only 26 possible shifts for the English alphabet)."
   ]
  },
  {
   "cell_type": "code",
   "execution_count": null,
   "id": "f56ce75f",
   "metadata": {},
   "outputs": [],
   "source": [
    "2. Implement a Python script that uses XOR symmetric key encryption.\n",
    "(a) Prompt the user to enter a plaintext message and an 8-bit key.\n",
    "(b) Encrypt the message with the provided key.\n",
    "(c) Write another script that decrypts the encrypted message with a provided key.\n",
    "(d) Decrypt the provided message below with the given key. What does the decrypted message say?\n",
    "(e) Expand the script so that when the user does not provide a key, a brute-force method is\n",
    "used to decrypt the message. For this, please limit the key length to 8 bits.\n",
    "(f) What happens if we increase the key length?\n",
    "(g) What are the possible downfalls of symmetric encryption?\n",
    "The encrypted message (Key = 6 or 0b110): Eiukoe&Djscdcttocu&.toen&oh&ghroi~obghru/"
   ]
  }
 ],
 "metadata": {
  "kernelspec": {
   "display_name": "Python 3 (ipykernel)",
   "language": "python",
   "name": "python3"
  },
  "language_info": {
   "codemirror_mode": {
    "name": "ipython",
    "version": 3
   },
   "file_extension": ".py",
   "mimetype": "text/x-python",
   "name": "python",
   "nbconvert_exporter": "python",
   "pygments_lexer": "ipython3",
   "version": "3.9.13"
  }
 },
 "nbformat": 4,
 "nbformat_minor": 5
}
