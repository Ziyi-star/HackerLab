{
 "cells": [
  {
   "cell_type": "code",
   "execution_count": 2,
   "id": "3b60e500",
   "metadata": {},
   "outputs": [
    {
     "data": {
      "text/html": [
       "<style>.container { width:85% !important; }</style>"
      ],
      "text/plain": [
       "<IPython.core.display.HTML object>"
      ]
     },
     "metadata": {},
     "output_type": "display_data"
    }
   ],
   "source": [
    "from IPython.display import display, HTML\n",
    "display(HTML(\"<style>.container { width:85% !important; }</style>\"))"
   ]
  },
  {
   "cell_type": "markdown",
   "id": "20d1e7bc",
   "metadata": {},
   "source": [
    "1. What is the difference between symmetric and asymmetric encryption? How does it compare with the Ceasar’s Cipher?\n",
    "\n",
    "Symmetric Encryption:\n",
    "Both the sender and the receiver use the same key for encryption and decryption.\n",
    "It is faster and simpler but requires secure key management since the key must be shared and kept secret.\n",
    "Example: AES (Advanced Encryption Standard).\n",
    "\n",
    "Asymmetric Encryption:\n",
    "Uses a pair of keys: a public key for encryption and a private key for decryption.\n",
    "It allows anyone to encrypt messages with the public key, but only the holder of the private key can decrypt them.\n",
    "It is more complex and slower than symmetric encryption but solves the key distribution problem.\n",
    "Example: RSA (Rivest–Shamir–Adleman).\n",
    "\n",
    "Public Key Encryption Comparison with Caesar’s Cipher:\n",
    "Caesar’s Cipher is a type of symmetric encryption with a single key (the shift value).\n",
    "It is much less secure than modern methods since the key space (the range of possible keys) is very small (only 26 possible shifts for the English alphabet)."
   ]
  },
  {
   "cell_type": "code",
   "execution_count": null,
   "id": "f56ce75f",
   "metadata": {},
   "outputs": [],
   "source": [
    "2. Implement a Python script that uses XOR symmetric key encryption.\n",
    "(c) Write another script that decrypts the encrypted message with a provided key.\n",
    "(d) Decrypt the provided message below with the given key. What does the decrypted message say?\n",
    "(e) Expand the script so that when the user does not provide a key, a brute-force method is\n",
    "used to decrypt the message. For this, please limit the key length to 8 bits.\n",
    "(f) What happens if we increase the key length?\n",
    "(g) What are the possible downfalls of symmetric encryption?\n",
    "The encrypted message (Key = 6 or 0b110): Eiukoe&Djscdcttocu&.toen&oh&ghroi~obghru/"
   ]
  },
  {
   "cell_type": "code",
   "execution_count": 44,
   "id": "3faddc33",
   "metadata": {},
   "outputs": [],
   "source": [
    "#version 1: Just XOR\n",
    "def xor_encrypt(plaintext, key):\n",
    "    encrypted_text = \"\"\n",
    "    for char in plaintext:\n",
    "        # Perform XOR operation between the ASCII value of the character and the key\n",
    "        encrypted_char = chr((ord(char) ^ key))\n",
    "        # Append the result to the encrypted_text string\n",
    "        encrypted_text += encrypted_char\n",
    "    return encrypted_text"
   ]
  },
  {
   "cell_type": "code",
   "execution_count": 45,
   "id": "19bddd2f",
   "metadata": {},
   "outputs": [
    {
     "name": "stdout",
     "output_type": "stream",
     "text": [
      "Enter your plaintext message: hfkdslahfldsah\n",
      "Enter an 8-bit key (0-255): 100\n",
      "Encrypted message: \f",
      "\u0002\u000f\u0000\u0005\f",
      "\u0000\u0017\u0005\f",
      "\n"
     ]
    }
   ],
   "source": [
    "#(a) Prompt the user to enter a plaintext message and an 8-bit key.\n",
    "plaintext = input(\"Enter your plaintext message: \")\n",
    "key = int(input(\"Enter an 8-bit key (0-255): \"),10)\n",
    "encrypted = xor_encrypt(plaintext, key)\n",
    "print(\"Encrypted message:\", encrypted)"
   ]
  },
  {
   "cell_type": "code",
   "execution_count": 46,
   "id": "9407d0c0",
   "metadata": {},
   "outputs": [],
   "source": [
    "#version2: Just characters\n",
    "# Because version1 gives me non readable characters, I have an idea that I contrains the output in characters.\n",
    "def xor_encrypt(plaintext, key):\n",
    "    encrypted_text = \"\"\n",
    "    ascii_min = 65  # ASCII value for 'A'\n",
    "    ascii_max = 122 # ASCII value for 'z'\n",
    "    range_size = ascii_max - ascii_min + 1  # Total number of allowable characters\n",
    "\n",
    "    for char in plaintext:\n",
    "        # Perform XOR operation between the ASCII value of the character and the key\n",
    "        xored_value = ord(char) ^ key\n",
    "        # Map the result into the desired ASCII range [65, 122]\n",
    "        normalized_value = ascii_min + (xored_value % range_size)\n",
    "        # Ensure the value falls within the allowed range if it overflows\n",
    "        #if normalized_value > ascii_max:\n",
    "            #normalized_value = ascii_min + (normalized_value - ascii_max - 1)\n",
    "        # Convert back to character and append to the encrypted text\n",
    "        encrypted_char = chr(normalized_value)\n",
    "        encrypted_text += encrypted_char\n",
    "    return encrypted_text"
   ]
  },
  {
   "cell_type": "code",
   "execution_count": 47,
   "id": "625d8be0",
   "metadata": {},
   "outputs": [
    {
     "name": "stdout",
     "output_type": "stream",
     "text": [
      "Enter your plaintext message: hfslafhlksdauiowerZROEIWUUROIEW\n",
      "Enter an 8-bit key (0-255): 100\n",
      "Encrypted message: MCXIFCMIPXAFRNLTBWEwlbntrrwlnbt\n"
     ]
    }
   ],
   "source": [
    "#(a) Prompt the user to enter a plaintext message and an 8-bit key.\n",
    "plaintext = input(\"Enter your plaintext message: \")\n",
    "key = int(input(\"Enter an 8-bit key (0-255): \"),10)\n",
    "encrypted = xor_encrypt(plaintext, key)\n",
    "print(\"Encrypted message:\", encrypted)"
   ]
  },
  {
   "cell_type": "code",
   "execution_count": null,
   "id": "a5b3d3d2",
   "metadata": {},
   "outputs": [],
   "source": [
    "decrypted = xor_decrypt(encrypted, key)\n",
    "print(\"Decrypted message:\", decrypted)"
   ]
  },
  {
   "cell_type": "code",
   "execution_count": null,
   "id": "e7958cd9",
   "metadata": {},
   "outputs": [],
   "source": []
  }
 ],
 "metadata": {
  "kernelspec": {
   "display_name": "Python 3 (ipykernel)",
   "language": "python",
   "name": "python3"
  },
  "language_info": {
   "codemirror_mode": {
    "name": "ipython",
    "version": 3
   },
   "file_extension": ".py",
   "mimetype": "text/x-python",
   "name": "python",
   "nbconvert_exporter": "python",
   "pygments_lexer": "ipython3",
   "version": "3.9.13"
  }
 },
 "nbformat": 4,
 "nbformat_minor": 5
}
