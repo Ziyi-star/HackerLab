{
 "cells": [
  {
   "cell_type": "code",
   "execution_count": 5,
   "id": "856dbc93",
   "metadata": {},
   "outputs": [
    {
     "data": {
      "text/plain": [
       "122"
      ]
     },
     "execution_count": 5,
     "metadata": {},
     "output_type": "execute_result"
    }
   ],
   "source": [
    " start = ord('z')\n",
    "start"
   ]
  },
  {
   "cell_type": "code",
   "execution_count": 5,
   "id": "06c9b347",
   "metadata": {},
   "outputs": [
    {
     "data": {
      "text/plain": [
       "'\\x1e'"
      ]
     },
     "execution_count": 5,
     "metadata": {},
     "output_type": "execute_result"
    }
   ],
   "source": [
    "key=100\n",
    "encrypted_char = chr((ord('z') ^ key)  # XOR operation with the key\n",
    "encrypted_char"
   ]
  },
  {
   "cell_type": "code",
   "execution_count": 6,
   "id": "d3ddcaec",
   "metadata": {},
   "outputs": [],
   "source": [
    "def xor_encrypt(plaintext, key):\n",
    "    encrypted_text = \"\"\n",
    "    for char in plaintext:\n",
    "        # Convert character to its ASCII value and perform XOR operation\n",
    "        xored_value = ord(char) ^ key\n",
    "        # Convert XOR result back to a character\n",
    "        encrypted_char = chr(xored_value)\n",
    "        # Append encrypted character to output string\n",
    "        encrypted_text += encrypted_char\n",
    "    return encrypted_text\n"
   ]
  },
  {
   "cell_type": "code",
   "execution_count": 9,
   "id": "fa570490",
   "metadata": {},
   "outputs": [
    {
     "name": "stdout",
     "output_type": "stream",
     "text": [
      "Encrypted text: Ncjji*&Qitjb'\n"
     ]
    }
   ],
   "source": [
    "# Example usage\n",
    "plaintext = \"Hello, World!\"\n",
    "key = 6  # Example key for XOR operation\n",
    "encrypted_text = xor_encrypt(plaintext, key)\n",
    "print(\"Encrypted text:\", encrypted_text)"
   ]
  },
  {
   "cell_type": "code",
   "execution_count": null,
   "id": "5245320e",
   "metadata": {},
   "outputs": [],
   "source": [
    "def xor_encrypt(plaintext, key):\n",
    "    encrypted_text = \"\"\n",
    "    for char in plaintext:\n",
    "        encrypted_char = chr(ord(char) ^ key)  # XOR operation with the key\n",
    "        encrypted_text += encrypted_char\n",
    "    return encrypted_text\n",
    "\n",
    "def xor_decrypt(ciphertext, key):\n",
    "    return xor_encrypt(ciphertext, key)  # XOR decryption is the same as encryption\n",
    "\n",
    "def prompt_encrypt_decrypt():\n",
    "    plaintext = input(\"Enter your plaintext message: \")\n",
    "    key = int(input(\"Enter an 8-bit key (0-255): \"), 10)\n",
    "    encrypted = xor_encrypt(plaintext, key)\n",
    "    print(\"Encrypted message:\", encrypted)\n",
    "    decrypted = xor_decrypt(encrypted, key)\n",
    "    print(\"Decrypted message:\", decrypted)\n",
    "\n",
    "# Decrypt provided message\n",
    "def decrypt_given_message():\n",
    "    encrypted_message = \"Eiukoe&Djscdcttocu&.toen&oh&ghroi~obghru/\"\n",
    "    key = 6  # or 0b110 in binary\n",
    "    print(\"Decrypted message with key 6:\", xor_decrypt(encrypted_message, key))\n",
    "\n",
    "def brute_force_decrypt(ciphertext):\n",
    "    for key in range(256):  # 8-bit key, so 0 to 255\n",
    "        decrypted = xor_decrypt(ciphertext, key)\n",
    "        print(f\"Key {key}: {decrypted}\")\n",
    "\n",
    "prompt_encrypt_decrypt()  # Run to encrypt and decrypt user input\n",
    "decrypt_given_message()  # Decrypt the provided message\n",
    "# brute_force_decrypt(\"Encrypted message here\")  # Uncomment to run brute-force decryption\n"
   ]
  },
  {
   "cell_type": "code",
   "execution_count": null,
   "id": "197c55db",
   "metadata": {},
   "outputs": [],
   "source": []
  }
 ],
 "metadata": {
  "kernelspec": {
   "display_name": "Python 3 (ipykernel)",
   "language": "python",
   "name": "python3"
  },
  "language_info": {
   "codemirror_mode": {
    "name": "ipython",
    "version": 3
   },
   "file_extension": ".py",
   "mimetype": "text/x-python",
   "name": "python",
   "nbconvert_exporter": "python",
   "pygments_lexer": "ipython3",
   "version": "3.9.13"
  }
 },
 "nbformat": 4,
 "nbformat_minor": 5
}
